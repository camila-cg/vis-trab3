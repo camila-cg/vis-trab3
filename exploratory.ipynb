{
 "cells": [
  {
   "cell_type": "markdown",
   "metadata": {},
   "source": [
    "# Base original"
   ]
  },
  {
   "cell_type": "code",
   "execution_count": 1,
   "metadata": {},
   "outputs": [
    {
     "data": {
      "text/html": [
       "<div>\n",
       "<style scoped>\n",
       "    .dataframe tbody tr th:only-of-type {\n",
       "        vertical-align: middle;\n",
       "    }\n",
       "\n",
       "    .dataframe tbody tr th {\n",
       "        vertical-align: top;\n",
       "    }\n",
       "\n",
       "    .dataframe thead th {\n",
       "        text-align: right;\n",
       "    }\n",
       "</style>\n",
       "<table border=\"1\" class=\"dataframe\">\n",
       "  <thead>\n",
       "    <tr style=\"text-align: right;\">\n",
       "      <th></th>\n",
       "      <th>ID</th>\n",
       "      <th>DT_PEDIDO</th>\n",
       "      <th>DT_COLETA</th>\n",
       "      <th>ATENDIMENTO</th>\n",
       "      <th>CD_ORI_ATEND</th>\n",
       "      <th>ORIGEM</th>\n",
       "      <th>PRONTUARIO</th>\n",
       "      <th>CD_SETOR</th>\n",
       "      <th>SETOR</th>\n",
       "      <th>CD_CONVENIO</th>\n",
       "      <th>CONVENIO</th>\n",
       "      <th>CD_EXA_LAB</th>\n",
       "      <th>EXAME</th>\n",
       "      <th>MATERIAL</th>\n",
       "      <th>AMOSTRA</th>\n",
       "      <th>OBSERVACAO</th>\n",
       "      <th>RESULTADO</th>\n",
       "    </tr>\n",
       "  </thead>\n",
       "  <tbody>\n",
       "    <tr>\n",
       "      <th>0</th>\n",
       "      <td>0</td>\n",
       "      <td>01/02/16</td>\n",
       "      <td>01/02/16</td>\n",
       "      <td>1803663</td>\n",
       "      <td>13</td>\n",
       "      <td>EXTERNO</td>\n",
       "      <td>0</td>\n",
       "      <td>219</td>\n",
       "      <td>SAM-Serviço de Ambulatório</td>\n",
       "      <td>2</td>\n",
       "      <td>SUS - AMBULATORIO</td>\n",
       "      <td>140</td>\n",
       "      <td>PESQUISA DE BAAR (BACILOSCOPIA) - DIAGNÓSTICA</td>\n",
       "      <td>ESCARRO</td>\n",
       "      <td>1022027</td>\n",
       "      <td>NaN</td>\n",
       "      <td>PESQUISA DE BAAR NEGATIVA EM 100 CAMPOS EXAMIN...</td>\n",
       "    </tr>\n",
       "  </tbody>\n",
       "</table>\n",
       "</div>"
      ],
      "text/plain": [
       "   ID DT_PEDIDO DT_COLETA  ATENDIMENTO  CD_ORI_ATEND   ORIGEM  PRONTUARIO  \\\n",
       "0   0  01/02/16  01/02/16      1803663            13  EXTERNO           0   \n",
       "\n",
       "   CD_SETOR                       SETOR  CD_CONVENIO           CONVENIO  \\\n",
       "0       219  SAM-Serviço de Ambulatório            2  SUS - AMBULATORIO   \n",
       "\n",
       "   CD_EXA_LAB                                          EXAME MATERIAL  \\\n",
       "0         140  PESQUISA DE BAAR (BACILOSCOPIA) - DIAGNÓSTICA  ESCARRO   \n",
       "\n",
       "   AMOSTRA OBSERVACAO                                          RESULTADO  \n",
       "0  1022027        NaN  PESQUISA DE BAAR NEGATIVA EM 100 CAMPOS EXAMIN...  "
      ]
     },
     "execution_count": 1,
     "metadata": {},
     "output_type": "execute_result"
    }
   ],
   "source": [
    "import pandas as pd\n",
    "df = pd.read_csv('C:\\\\Users\\\\camila.gusmao\\\\Downloads\\\\dados_TB.csv')\n",
    "df.head(1)"
   ]
  },
  {
   "cell_type": "markdown",
   "metadata": {},
   "source": [
    "Verificando os tipos de materiais"
   ]
  },
  {
   "cell_type": "code",
   "execution_count": 2,
   "metadata": {},
   "outputs": [
    {
     "name": "stdout",
     "output_type": "stream",
     "text": [
      "Quantidade de materiais:  51\n"
     ]
    },
    {
     "data": {
      "text/plain": [
       "LAVADO BRONQUICO                  3796\n",
       "ESCARRO                           3101\n",
       "LIQUIDO PLEURAL                   1538\n",
       "LAVADO BRONCOALVEOLAR              868\n",
       "LIQUOR (PUNCAO LOMBAR)             409\n",
       "BIOPSIA                            304\n",
       "DIVERSOS                           215\n",
       "ASPIRADO TRAQUEAL                  197\n",
       "LINFONODO                          121\n",
       "ESCARRO 2ª AMOSTRA                  91\n",
       "LIQUIDO ASCITICO                    85\n",
       "FRAGMENTO PULMONAR                  76\n",
       "URINA                               67\n",
       "ESCARRO INDUZIDO (BAAR)             66\n",
       "ESCARRO 1ª AMOSTRA                  65\n",
       "LAVADO GASTRICO                     64\n",
       "LINFA                               59\n",
       "ESCARRO 3ª AMOSTRA                  50\n",
       "ABSCESSO                            49\n",
       "LIQUIDO PERICARDICO                 49\n",
       "FRAGMENTO DE TECIDO                 48\n",
       "LIQUIDO SINOVIAL                    42\n",
       "FRAGMENTO DE PLEURA                 41\n",
       "ASPIRADO MEDULA OSSEA               40\n",
       "FRAGMENTO OSSEO                     31\n",
       "BIOPSIA PULMONAR A CEU ABERTO       26\n",
       "LIQUOR (DVE)                        26\n",
       "EMPIEMA PLEURAL                     22\n",
       "BIOPSIA PULMONAR TRANS-TORACIC      19\n",
       "ASPIRADO GANGLIONAR                 16\n",
       "SECREÇÃO CUTÂNEA                    16\n",
       "NODULO PULMONAR                     15\n",
       "ASPIRADO TRANSTRAQUEAL              12\n",
       "BIOPSIA TECIDOS PROFUNDOS           11\n",
       "ESCOVADO BRÔNQUICO                   9\n",
       "LIQUIDO ABDOMINAL                    8\n",
       "LIQUOR (DVP)                         8\n",
       "ASPIRADO BRONQUICO                   8\n",
       "BIOPSIA DE PELE                      7\n",
       "FRAGMENTO SINOVIAL                   7\n",
       "BIOPSIA DE OSSOS                     7\n",
       "BIOPSIA SUB-CUTANEA                  6\n",
       "SECRECAO DE FERIDA                   5\n",
       "LIQUIDO PERITONEAL                   4\n",
       "SANGUE                               4\n",
       "SECREÇÃO DE ORGÃOS GENITAIS          4\n",
       "SECREÇÃO DE LESÃO ÓSSEA              2\n",
       "BIOPSIA TRANS-BRONQUICA              1\n",
       "EMPIEMA EXTRA-DURAL                  1\n",
       "LIQUIDO ARTICULAR                    1\n",
       "SWAB DE SECREÇÃO DE LESÃO ÓSSE       1\n",
       "Name: MATERIAL, dtype: int64"
      ]
     },
     "execution_count": 2,
     "metadata": {},
     "output_type": "execute_result"
    }
   ],
   "source": [
    "print('Quantidade de materiais: ', df.MATERIAL.value_counts().size)\n",
    "df.MATERIAL.value_counts()"
   ]
  },
  {
   "cell_type": "markdown",
   "metadata": {},
   "source": [
    "# Tratamento dos dados"
   ]
  },
  {
   "cell_type": "markdown",
   "metadata": {},
   "source": [
    "Renomeando material com erro de ortografia"
   ]
  },
  {
   "cell_type": "code",
   "execution_count": 4,
   "metadata": {},
   "outputs": [],
   "source": [
    "df[\"MATERIAL\"].replace({\"SWAB DE SECREÇÃO DE LESÃO ÓSSE\": \"SWAB DE SECREÇÃO DE LESÃO ÓSSEA\"}, inplace=True)"
   ]
  },
  {
   "cell_type": "markdown",
   "metadata": {},
   "source": [
    "Segue a lista de materiais e suas respectivas quantidades que serão removidos do dataset:\n",
    "\n",
    "- DIVERSOS                       215\n",
    "- ASPIRADO TRAQUEAL              197\n",
    "- LAVADO GASTRICO                 64\n",
    "- ABSCESSO                        49\n",
    "- FRAGMENTO DE TECIDO             48\n",
    "- ASPIRADO TRANSTRAQUEAL          12\n",
    "- BIOPSIA TECIDOS PROFUNDOS       11\n",
    "- SECREÇÃO DE ORGÃOS GENITAIS      4\n",
    "- BIOPSIA TRANS-BRONQUICA          1\n",
    "- EMPIEMA EXTRA-DURAL              1"
   ]
  },
  {
   "cell_type": "code",
   "execution_count": 5,
   "metadata": {},
   "outputs": [],
   "source": [
    "df.drop(df[df.MATERIAL == 'DIVERSOS'].index, inplace=True)\n",
    "df.drop(df[df.MATERIAL == 'ASPIRADO TRAQUEAL'].index, inplace=True)\n",
    "df.drop(df[df.MATERIAL == 'LAVADO GASTRICO'].index, inplace=True)\n",
    "df.drop(df[df.MATERIAL == 'ABSCESSO'].index, inplace=True)\n",
    "df.drop(df[df.MATERIAL == 'FRAGMENTO DE TECIDO'].index, inplace=True)\n",
    "df.drop(df[df.MATERIAL == 'ASPIRADO TRANSTRAQUEAL'].index, inplace=True)\n",
    "df.drop(df[df.MATERIAL == 'BIOPSIA TECIDOS PROFUNDOS'].index, inplace=True)\n",
    "df.drop(df[df.MATERIAL == 'SECREÇÃO DE ORGÃOS GENITAIS'].index, inplace=True)\n",
    "df.drop(df[df.MATERIAL == 'BIOPSIA TRANS-BRONQUICA'].index, inplace=True)\n",
    "df.drop(df[df.MATERIAL == 'EMPIEMA EXTRA-DURAL'].index, inplace=True)\n"
   ]
  },
  {
   "cell_type": "markdown",
   "metadata": {},
   "source": [
    "# Criação dos grupos"
   ]
  },
  {
   "cell_type": "code",
   "execution_count": 6,
   "metadata": {},
   "outputs": [],
   "source": [
    "tb_df = df.copy()\n",
    "tb_df = df.assign(GRUPO = '')\n",
    "\n",
    "for index, row in tb_df.iterrows():\n",
    "    material = row['MATERIAL']\n",
    "    mat_pulmonar = ['LAVADO BRONQUICO', 'LAVADO BRONCOALVEOLAR', 'ASPIRADO BRONQUICO', 'ESCOVADO BRÔNQUICO', 'ASPIRADO TRAQUEAL', 'ASPIRADO TRANSTRAQUEAL', 'ESCARRO', 'ESCARRO 1ª AMOSTRA', 'ESCARRO 2ª AMOSTRA', 'ESCARRO 3ª AMOSTRA', 'ESCARRO INDUZIDO (BAAR)', 'BIOPSIA', 'BIOPSIA PULMONAR A CEU ABERTO', 'BIOPSIA PULMONAR TRANS-TORACIC', 'NODULO PULMONAR', 'FRAGMENTO PULMONAR']\n",
    "    # mat_pleural = ['LIQUIDO PLEURAL (POSIT RUIM)', 'EMPIEMA PLEURAL++', 'FRAGMENTO DE PLEURA++']\n",
    "    mat_pleural = ['LIQUIDO PLEURAL', 'EMPIEMA PLEURAL', 'FRAGMENTO DE PLEURA']\n",
    "    mat_ganglionar = ['LINFONODO', 'LINFA', 'ASPIRADO GANGLIONAR']\n",
    "    mat_meningea = ['LIQUOR (PUNCAO LOMBAR)', 'LIQUOR (DVE)', 'LIQUOR (DVP)']\n",
    "    mat_outros = ['SANGUE', 'ASPIRADO MEDULA OSSEA', 'SECREÇÃO CUTÂNEA', 'SECRECAO DE FERIDA', 'BIOPSIA DE PELE', 'BIOPSIA SUB-CUTANEA', 'LIQUIDO PERICARDICO', 'BIOPSIA DE OSSOS', 'FRAGMENTO OSSEO (POTT)', 'SECREÇÃO DE LESÃO ÓSSEA', 'SWAB DE SECREÇÃO DE LESÃO ÓSSEA', 'LIQUIDO ASCITICO', 'LIQUIDO ABDOMINAL', 'LIQUIDO PERITONEAL', 'MÚSCULOESQUELÉTICO (MSK)', 'LIQUIDO SINOVIAL', 'FRAGMENTO SINOVIAL', 'LIQUIDO ARTICULAR', 'DIVERSOS', 'EMPIEMA EXTRA-DURAL', 'FRAGMENTO DE TECIDO', 'SECREÇÃO DE ORGÃOS GENITAIS', 'BIOPSIA TECIDOS PROFUNDOS', 'URINA', 'ABSCESSO', 'LAVADO GASTRICO (PED)', 'BIOPSIA TRANS-BRONQUICA']\n",
    "    \n",
    "    if material in mat_pulmonar:\n",
    "        tb_df.loc[index, 'GRUPO'] = 'PULMONAR'\n",
    "    if material in mat_pleural:\n",
    "        tb_df.loc[index, 'GRUPO'] = 'PLEURAL'\n",
    "    if material in mat_ganglionar:\n",
    "        tb_df.loc[index, 'GRUPO'] = 'GANGLIONAR'\n",
    "    if material in mat_meningea:\n",
    "        tb_df.loc[index, 'GRUPO'] = 'MENINGEA'\n",
    "    if material in mat_outros:\n",
    "        tb_df.loc[index, 'GRUPO'] = 'OUTROS'\n",
    "\n",
    "tb_df.to_csv('C:\\\\Users\\\\camila.gusmao\\\\Downloads\\\\dados_TB-com-grupo.csv')"
   ]
  },
  {
   "cell_type": "code",
   "execution_count": 7,
   "metadata": {},
   "outputs": [
    {
     "data": {
      "text/html": [
       "<div>\n",
       "<style scoped>\n",
       "    .dataframe tbody tr th:only-of-type {\n",
       "        vertical-align: middle;\n",
       "    }\n",
       "\n",
       "    .dataframe tbody tr th {\n",
       "        vertical-align: top;\n",
       "    }\n",
       "\n",
       "    .dataframe thead th {\n",
       "        text-align: right;\n",
       "    }\n",
       "</style>\n",
       "<table border=\"1\" class=\"dataframe\">\n",
       "  <thead>\n",
       "    <tr style=\"text-align: right;\">\n",
       "      <th></th>\n",
       "      <th>Unnamed: 0</th>\n",
       "      <th>ID</th>\n",
       "      <th>DT_PEDIDO</th>\n",
       "      <th>DT_COLETA</th>\n",
       "      <th>ATENDIMENTO</th>\n",
       "      <th>CD_ORI_ATEND</th>\n",
       "      <th>ORIGEM</th>\n",
       "      <th>PRONTUARIO</th>\n",
       "      <th>CD_SETOR</th>\n",
       "      <th>SETOR</th>\n",
       "      <th>CD_CONVENIO</th>\n",
       "      <th>CONVENIO</th>\n",
       "      <th>CD_EXA_LAB</th>\n",
       "      <th>EXAME</th>\n",
       "      <th>MATERIAL</th>\n",
       "      <th>AMOSTRA</th>\n",
       "      <th>OBSERVACAO</th>\n",
       "      <th>RESULTADO</th>\n",
       "      <th>GRUPO</th>\n",
       "    </tr>\n",
       "  </thead>\n",
       "  <tbody>\n",
       "    <tr>\n",
       "      <th>0</th>\n",
       "      <td>0</td>\n",
       "      <td>0</td>\n",
       "      <td>01/02/16</td>\n",
       "      <td>01/02/16</td>\n",
       "      <td>1803663</td>\n",
       "      <td>13</td>\n",
       "      <td>EXTERNO</td>\n",
       "      <td>0</td>\n",
       "      <td>219</td>\n",
       "      <td>SAM-Serviço de Ambulatório</td>\n",
       "      <td>2</td>\n",
       "      <td>SUS - AMBULATORIO</td>\n",
       "      <td>140</td>\n",
       "      <td>PESQUISA DE BAAR (BACILOSCOPIA) - DIAGNÓSTICA</td>\n",
       "      <td>ESCARRO</td>\n",
       "      <td>1022027</td>\n",
       "      <td>NaN</td>\n",
       "      <td>PESQUISA DE BAAR NEGATIVA EM 100 CAMPOS EXAMIN...</td>\n",
       "      <td>PULMONAR</td>\n",
       "    </tr>\n",
       "  </tbody>\n",
       "</table>\n",
       "</div>"
      ],
      "text/plain": [
       "   Unnamed: 0  ID DT_PEDIDO DT_COLETA  ATENDIMENTO  CD_ORI_ATEND   ORIGEM  \\\n",
       "0           0   0  01/02/16  01/02/16      1803663            13  EXTERNO   \n",
       "\n",
       "   PRONTUARIO  CD_SETOR                       SETOR  CD_CONVENIO  \\\n",
       "0           0       219  SAM-Serviço de Ambulatório            2   \n",
       "\n",
       "            CONVENIO  CD_EXA_LAB  \\\n",
       "0  SUS - AMBULATORIO         140   \n",
       "\n",
       "                                           EXAME MATERIAL  AMOSTRA OBSERVACAO  \\\n",
       "0  PESQUISA DE BAAR (BACILOSCOPIA) - DIAGNÓSTICA  ESCARRO  1022027        NaN   \n",
       "\n",
       "                                           RESULTADO     GRUPO  \n",
       "0  PESQUISA DE BAAR NEGATIVA EM 100 CAMPOS EXAMIN...  PULMONAR  "
      ]
     },
     "execution_count": 7,
     "metadata": {},
     "output_type": "execute_result"
    }
   ],
   "source": [
    "tb_grupo_df = pd.read_csv('C:\\\\Users\\\\camila.gusmao\\\\Downloads\\\\dados_TB-com-grupo.csv')\n",
    "tb_grupo_df.head(1)"
   ]
  },
  {
   "cell_type": "markdown",
   "metadata": {},
   "source": [
    "Quantidade de atendimentos por grupo"
   ]
  },
  {
   "cell_type": "code",
   "execution_count": 8,
   "metadata": {},
   "outputs": [
    {
     "data": {
      "text/plain": [
       "PULMONAR      8494\n",
       "PLEURAL       1601\n",
       "MENINGEA       443\n",
       "OUTROS         351\n",
       "GANGLIONAR     196\n",
       "Name: GRUPO, dtype: int64"
      ]
     },
     "execution_count": 8,
     "metadata": {},
     "output_type": "execute_result"
    }
   ],
   "source": [
    "tb_grupo_df.GRUPO.value_counts()"
   ]
  },
  {
   "cell_type": "markdown",
   "metadata": {},
   "source": [
    "# Criação das categorias"
   ]
  },
  {
   "cell_type": "code",
   "execution_count": 9,
   "metadata": {},
   "outputs": [],
   "source": [
    "tb_cat = tb_grupo_df.copy()\n",
    "tb_cat = tb_cat.assign(CATEGORIA = '')"
   ]
  },
  {
   "cell_type": "code",
   "execution_count": 10,
   "metadata": {},
   "outputs": [],
   "source": [
    "broncoscopia = ['LAVADO BRONQUICO', 'LAVADO BRONCOALVEOLAR', 'ASPIRADO BRONQUICO', 'ESCOVADO BRÔNQUICO']\n",
    "escarro = ['ESCARRO', 'ESCARRO 1ª AMOSTRA', 'ESCARRO 2ª AMOSTRA', 'ESCARRO 3ª AMOSTRA']\n",
    "escarro_induzido = ['ESCARRO INDUZIDO (BAAR)']\n",
    "biopsia = ['BIOPSIA', 'BIOPSIA PULMONAR A CEU ABERTO', 'BIOPSIA PULMONAR TRANS-TORACIC', 'NODULO PULMONAR', 'FRAGMENTO PULMONAR']\n",
    "liq_pleural = ['LIQUIDO PLEURAL']\n",
    "emp_pleural = ['EMPIEMA PLEURAL']\n",
    "frag_pleura = ['FRAGMENTO DE PLEURA']\n",
    "linf = ['LINFONODO', 'LINFA', 'ASPIRADO GANGLIONAR']\n",
    "liquor = ['LIQUOR (PUNCAO LOMBAR)', 'LIQUOR (DVE)', 'LIQUOR (DVP)']\n",
    "acom_hemat = ['SANGUE', 'ASPIRADO MEDULA OSSEA']\n",
    "acom_osseo = ['BIOPSIA DE OSSOS', 'FRAGMENTO OSSEO', 'SECREÇÃO DE LESÃO ÓSSEA', 'SWAB DE SECREÇÃO DE LESÃO ÓSSEA']\n",
    "liq_per = ['LIQUIDO PERICARDICO']\n",
    "liq_abd = ['LIQUIDO ASCITICO', 'LIQUIDO ABDOMINAL', 'LIQUIDO PERITONEAL']\n",
    "acom_musc_esq = ['LIQUIDO SINOVIAL', 'FRAGMENTO SINOVIAL', 'LIQUIDO ARTICULAR']\n",
    "acom_pele = ['SECREÇÃO CUTÂNEA', 'SECRECAO DE FERIDA', 'BIOPSIA DE PELE', 'BIOPSIA SUB-CUTANEA']\n",
    "urina = ['URINA']\n",
    "\n",
    "# mat_pulmonar = ['ASPIRADO TRAQUEAL', 'ASPIRADO TRANSTRAQUEAL']\n",
    "# mat_outros = ['MÚSCULOESQUELÉTICO (MSK)', 'DIVERSOS', 'EMPIEMA EXTRA-DURAL', 'FRAGMENTO DE TECIDO', 'SECREÇÃO DE ORGÃOS GENITAIS', 'BIOPSIA TECIDOS PROFUNDOS', , 'ABSCESSO', 'LAVADO GASTRICO (PED)', 'BIOPSIA TRANS-BRONQUICA']\n",
    "\n",
    "for index, row in tb_cat.iterrows():\n",
    "    material = row['MATERIAL']\n",
    "\n",
    "    if material in broncoscopia:\n",
    "        tb_cat.loc[index, 'CATEGORIA'] = 'BRONCOSCOPIA'\n",
    "    if material in escarro:\n",
    "        tb_cat.loc[index, 'CATEGORIA'] = 'ESCARRO'\n",
    "    if material in escarro_induzido:\n",
    "        tb_cat.loc[index, 'CATEGORIA'] = 'ESCARRO INDUZIDO (BAAR)'\n",
    "    if material in biopsia:\n",
    "        tb_cat.loc[index, 'CATEGORIA'] = 'BIÓPSIA'\n",
    "    if material in liq_pleural:\n",
    "        tb_cat.loc[index, 'CATEGORIA'] = 'LÍQUIDO PLEURAL'\n",
    "    if material in emp_pleural:\n",
    "        tb_cat.loc[index, 'CATEGORIA'] = 'EMPIEMA PLEURAL'\n",
    "    if material in frag_pleura:\n",
    "        tb_cat.loc[index, 'CATEGORIA'] = 'FRAGMENTO DE PLEURA'\n",
    "    if material in linf:\n",
    "        tb_cat.loc[index, 'CATEGORIA'] = 'ACOMETIMENTO LINFÁTICO'\n",
    "    if material in liquor:\n",
    "        tb_cat.loc[index, 'CATEGORIA'] = 'LIQUOR'\n",
    "    if material in acom_hemat:\n",
    "        tb_cat.loc[index, 'CATEGORIA'] = 'ACOMETIMENTO HEMATOLÓGICO'\n",
    "    if material in acom_osseo:\n",
    "        tb_cat.loc[index, 'CATEGORIA'] = 'ACOMETIMENTO ÓSSEO'\n",
    "    if material in liq_per:\n",
    "        tb_cat.loc[index, 'CATEGORIA'] = 'LIQUIDO PERICÁRDICO'\n",
    "    if material in liq_abd:\n",
    "        tb_cat.loc[index, 'CATEGORIA'] = 'LÍQUIDO EM CAVIDADE ABDOMINAL'\n",
    "    if material in acom_musc_esq:\n",
    "        tb_cat.loc[index, 'CATEGORIA'] = 'ACOMETIMENTO MÚSCULOESQUELÉTICO'\n",
    "    if material in acom_pele:\n",
    "        tb_cat.loc[index, 'CATEGORIA'] = 'ACOMETIMENTO DE PELE E SUBCUTÂNEO'\n",
    "    if material in urina:\n",
    "        tb_cat.loc[index, 'CATEGORIA'] = 'URINA'    \n",
    "\n",
    "tb_cat[\"MATERIAL\"].replace({\"ESCARRO\": \"NÃO ESPECIFICADO\"}, inplace=True)\n",
    "tb_cat[\"MATERIAL\"].replace({\"BIOPSIA\": \"NÃO ESPECIFICADA\"}, inplace=True)\n",
    "\n",
    "tb_cat.to_csv('C:\\\\Users\\\\camila.gusmao\\\\Downloads\\\\dados_TB-com-grupo-e-categorias.csv')"
   ]
  },
  {
   "cell_type": "code",
   "execution_count": 11,
   "metadata": {},
   "outputs": [
    {
     "data": {
      "text/html": [
       "<div>\n",
       "<style scoped>\n",
       "    .dataframe tbody tr th:only-of-type {\n",
       "        vertical-align: middle;\n",
       "    }\n",
       "\n",
       "    .dataframe tbody tr th {\n",
       "        vertical-align: top;\n",
       "    }\n",
       "\n",
       "    .dataframe thead th {\n",
       "        text-align: right;\n",
       "    }\n",
       "</style>\n",
       "<table border=\"1\" class=\"dataframe\">\n",
       "  <thead>\n",
       "    <tr style=\"text-align: right;\">\n",
       "      <th></th>\n",
       "      <th>Unnamed: 0</th>\n",
       "      <th>Unnamed: 0.1</th>\n",
       "      <th>ID</th>\n",
       "      <th>DT_PEDIDO</th>\n",
       "      <th>DT_COLETA</th>\n",
       "      <th>ATENDIMENTO</th>\n",
       "      <th>CD_ORI_ATEND</th>\n",
       "      <th>ORIGEM</th>\n",
       "      <th>PRONTUARIO</th>\n",
       "      <th>CD_SETOR</th>\n",
       "      <th>...</th>\n",
       "      <th>CD_CONVENIO</th>\n",
       "      <th>CONVENIO</th>\n",
       "      <th>CD_EXA_LAB</th>\n",
       "      <th>EXAME</th>\n",
       "      <th>MATERIAL</th>\n",
       "      <th>AMOSTRA</th>\n",
       "      <th>OBSERVACAO</th>\n",
       "      <th>RESULTADO</th>\n",
       "      <th>GRUPO</th>\n",
       "      <th>CATEGORIA</th>\n",
       "    </tr>\n",
       "  </thead>\n",
       "  <tbody>\n",
       "    <tr>\n",
       "      <th>0</th>\n",
       "      <td>0</td>\n",
       "      <td>0</td>\n",
       "      <td>0</td>\n",
       "      <td>01/02/16</td>\n",
       "      <td>01/02/16</td>\n",
       "      <td>1803663</td>\n",
       "      <td>13</td>\n",
       "      <td>EXTERNO</td>\n",
       "      <td>0</td>\n",
       "      <td>219</td>\n",
       "      <td>...</td>\n",
       "      <td>2</td>\n",
       "      <td>SUS - AMBULATORIO</td>\n",
       "      <td>140</td>\n",
       "      <td>PESQUISA DE BAAR (BACILOSCOPIA) - DIAGNÓSTICA</td>\n",
       "      <td>NÃO ESPECIFICADO</td>\n",
       "      <td>1022027</td>\n",
       "      <td>NaN</td>\n",
       "      <td>PESQUISA DE BAAR NEGATIVA EM 100 CAMPOS EXAMIN...</td>\n",
       "      <td>PULMONAR</td>\n",
       "      <td>ESCARRO</td>\n",
       "    </tr>\n",
       "  </tbody>\n",
       "</table>\n",
       "<p>1 rows × 21 columns</p>\n",
       "</div>"
      ],
      "text/plain": [
       "   Unnamed: 0  Unnamed: 0.1  ID DT_PEDIDO DT_COLETA  ATENDIMENTO  \\\n",
       "0           0             0   0  01/02/16  01/02/16      1803663   \n",
       "\n",
       "   CD_ORI_ATEND   ORIGEM  PRONTUARIO  CD_SETOR  ... CD_CONVENIO  \\\n",
       "0            13  EXTERNO           0       219  ...           2   \n",
       "\n",
       "            CONVENIO CD_EXA_LAB  \\\n",
       "0  SUS - AMBULATORIO        140   \n",
       "\n",
       "                                           EXAME          MATERIAL  AMOSTRA  \\\n",
       "0  PESQUISA DE BAAR (BACILOSCOPIA) - DIAGNÓSTICA  NÃO ESPECIFICADO  1022027   \n",
       "\n",
       "   OBSERVACAO                                          RESULTADO     GRUPO  \\\n",
       "0         NaN  PESQUISA DE BAAR NEGATIVA EM 100 CAMPOS EXAMIN...  PULMONAR   \n",
       "\n",
       "  CATEGORIA  \n",
       "0   ESCARRO  \n",
       "\n",
       "[1 rows x 21 columns]"
      ]
     },
     "execution_count": 11,
     "metadata": {},
     "output_type": "execute_result"
    }
   ],
   "source": [
    "tb_grupo_cat_df = pd.read_csv('C:\\\\Users\\\\camila.gusmao\\\\Downloads\\\\dados_TB-com-grupo-e-categorias.csv')\n",
    "tb_grupo_cat_df.head(1)"
   ]
  },
  {
   "cell_type": "code",
   "execution_count": 14,
   "metadata": {},
   "outputs": [
    {
     "name": "stdout",
     "output_type": "stream",
     "text": [
      "Quantidade de categorias:  16\n"
     ]
    },
    {
     "data": {
      "text/plain": [
       "BRONCOSCOPIA                         4681\n",
       "ESCARRO                              3307\n",
       "LÍQUIDO PLEURAL                      1538\n",
       "LIQUOR                                443\n",
       "BIÓPSIA                               440\n",
       "ACOMETIMENTO LINFÁTICO                196\n",
       "LÍQUIDO EM CAVIDADE ABDOMINAL          97\n",
       "URINA                                  67\n",
       "ESCARRO INDUZIDO (BAAR)                66\n",
       "ACOMETIMENTO MÚSCULOESQUELÉTICO        50\n",
       "LIQUIDO PERICÁRDICO                    49\n",
       "ACOMETIMENTO HEMATOLÓGICO              44\n",
       "FRAGMENTO DE PLEURA                    41\n",
       "ACOMETIMENTO ÓSSEO                     41\n",
       "ACOMETIMENTO DE PELE E SUBCUTÂNEO      34\n",
       "EMPIEMA PLEURAL                        22\n",
       "Name: CATEGORIA, dtype: int64"
      ]
     },
     "execution_count": 14,
     "metadata": {},
     "output_type": "execute_result"
    }
   ],
   "source": [
    "print(\"Quantidade de categorias: \", tb_grupo_cat_df['CATEGORIA'].value_counts().size)\n",
    "tb_grupo_cat_df['CATEGORIA'].value_counts()"
   ]
  }
 ],
 "metadata": {
  "interpreter": {
   "hash": "169b6ee8e3100b5b32a88ea59892543d065676e55e0677bf7eaee743feb61203"
  },
  "kernelspec": {
   "display_name": "Python 3.10.0 64-bit",
   "language": "python",
   "name": "python3"
  },
  "language_info": {
   "codemirror_mode": {
    "name": "ipython",
    "version": 3
   },
   "file_extension": ".py",
   "mimetype": "text/x-python",
   "name": "python",
   "nbconvert_exporter": "python",
   "pygments_lexer": "ipython3",
   "version": "3.10.0"
  },
  "orig_nbformat": 4
 },
 "nbformat": 4,
 "nbformat_minor": 2
}
